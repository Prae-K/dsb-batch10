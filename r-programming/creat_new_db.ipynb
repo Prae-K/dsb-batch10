{
  "nbformat": 4,
  "nbformat_minor": 0,
  "metadata": {
    "colab": {
      "provenance": []
    },
    "kernelspec": {
      "name": "ir",
      "display_name": "R"
    },
    "language_info": {
      "name": "R"
    }
  },
  "cells": [
    {
      "cell_type": "code",
      "execution_count": null,
      "metadata": {
        "colab": {
          "base_uri": "https://localhost:8080/"
        },
        "id": "NvFQflj4iXWF",
        "outputId": "f7982387-d953-460f-99f6-180d0b52701f"
      },
      "outputs": [
        {
          "output_type": "stream",
          "name": "stderr",
          "text": [
            "Installing package into ‘/usr/local/lib/R/site-library’\n",
            "(as ‘lib’ is unspecified)\n",
            "\n"
          ]
        }
      ],
      "source": [
        "install.packages(\"RSQLite\", version = \"2.3.7\")"
      ]
    },
    {
      "cell_type": "code",
      "source": [
        "install.packages(c(\"dplyr\", \"glue\"), version = \"1.1.3\") #dplyr version 1.1.3"
      ],
      "metadata": {
        "colab": {
          "base_uri": "https://localhost:8080/"
        },
        "id": "C2Mim-2ki7Cd",
        "outputId": "8fecd88e-3ee5-400c-f8df-48ff749f6a09"
      },
      "execution_count": null,
      "outputs": [
        {
          "output_type": "stream",
          "name": "stderr",
          "text": [
            "Installing packages into ‘/usr/local/lib/R/site-library’\n",
            "(as ‘lib’ is unspecified)\n",
            "\n"
          ]
        }
      ]
    },
    {
      "cell_type": "code",
      "source": [
        "library(tidyverse)\n",
        "library(RSQLite)\n",
        "library(glue)"
      ],
      "metadata": {
        "id": "XnhOFNLqidEl"
      },
      "execution_count": null,
      "outputs": []
    },
    {
      "cell_type": "code",
      "source": [
        "con <- dbConnect(SQLite(), \"restaurant.db\")"
      ],
      "metadata": {
        "id": "6XQdBvaZkYIg"
      },
      "execution_count": null,
      "outputs": []
    },
    {
      "cell_type": "code",
      "source": [
        "dbListTables(con)"
      ],
      "metadata": {
        "colab": {
          "base_uri": "https://localhost:8080/",
          "height": 34
        },
        "id": "jiTuhW4UnFiq",
        "outputId": "3c153537-b779-45bf-e1e4-469ff4cc5384"
      },
      "execution_count": null,
      "outputs": [
        {
          "output_type": "display_data",
          "data": {
            "text/html": [
              "<style>\n",
              ".list-inline {list-style: none; margin:0; padding: 0}\n",
              ".list-inline>li {display: inline-block}\n",
              ".list-inline>li:not(:last-child)::after {content: \"\\00b7\"; padding: 0 .5ex}\n",
              "</style>\n",
              "<ol class=list-inline><li>'menu'</li><li>'staff'</li></ol>\n"
            ],
            "text/markdown": "1. 'menu'\n2. 'staff'\n\n\n",
            "text/latex": "\\begin{enumerate*}\n\\item 'menu'\n\\item 'staff'\n\\end{enumerate*}\n",
            "text/plain": [
              "[1] \"menu\"  \"staff\""
            ]
          },
          "metadata": {}
        }
      ]
    },
    {
      "cell_type": "code",
      "source": [
        "dbWriteTable(con, \"staff\",\n",
        "            data.frame(staff_id = 1:3,\n",
        "                        staff_name = c(\"Prae\",\"David\",\"T\")))"
      ],
      "metadata": {
        "id": "v4yOs8vlk3D3"
      },
      "execution_count": null,
      "outputs": []
    },
    {
      "cell_type": "code",
      "source": [
        "dbGetQuery(con, \"select staff_name from staff\")"
      ],
      "metadata": {
        "colab": {
          "base_uri": "https://localhost:8080/",
          "height": 209
        },
        "id": "R89qEfkIlLR6",
        "outputId": "354b862c-fd84-4731-a8d8-f48a4cf94de4"
      },
      "execution_count": null,
      "outputs": [
        {
          "output_type": "display_data",
          "data": {
            "text/html": [
              "<table class=\"dataframe\">\n",
              "<caption>A data.frame: 3 × 1</caption>\n",
              "<thead>\n",
              "\t<tr><th scope=col>staff_name</th></tr>\n",
              "\t<tr><th scope=col>&lt;chr&gt;</th></tr>\n",
              "</thead>\n",
              "<tbody>\n",
              "\t<tr><td>Prae </td></tr>\n",
              "\t<tr><td>David</td></tr>\n",
              "\t<tr><td>T    </td></tr>\n",
              "</tbody>\n",
              "</table>\n"
            ],
            "text/markdown": "\nA data.frame: 3 × 1\n\n| staff_name &lt;chr&gt; |\n|---|\n| Prae  |\n| David |\n| T     |\n\n",
            "text/latex": "A data.frame: 3 × 1\n\\begin{tabular}{l}\n staff\\_name\\\\\n <chr>\\\\\n\\hline\n\t Prae \\\\\n\t David\\\\\n\t T    \\\\\n\\end{tabular}\n",
            "text/plain": [
              "  staff_name\n",
              "1 Prae      \n",
              "2 David     \n",
              "3 T         "
            ]
          },
          "metadata": {}
        }
      ]
    },
    {
      "cell_type": "code",
      "source": [
        "dbWriteTable(con,\"menu\",\n",
        "                data.frame(menu_id = 1:5,\n",
        "                menu_name = c(\"tomyam\", \"padthai\", \"noodle\", \"fried rice\", \"kaprao\"),\n",
        "                menu_price = c(100, 50, 60, 70, 65)))"
      ],
      "metadata": {
        "id": "GBe3t8QVm10R"
      },
      "execution_count": null,
      "outputs": []
    },
    {
      "cell_type": "code",
      "source": [
        "dbGetQuery(con, \"select * from menu\")"
      ],
      "metadata": {
        "colab": {
          "base_uri": "https://localhost:8080/",
          "height": 255
        },
        "id": "XU-baMdmoaHK",
        "outputId": "310cae84-7d0e-467c-8064-23316b3731bf"
      },
      "execution_count": null,
      "outputs": [
        {
          "output_type": "display_data",
          "data": {
            "text/html": [
              "<table class=\"dataframe\">\n",
              "<caption>A data.frame: 5 × 3</caption>\n",
              "<thead>\n",
              "\t<tr><th scope=col>menu_id</th><th scope=col>menu_name</th><th scope=col>menu_price</th></tr>\n",
              "\t<tr><th scope=col>&lt;int&gt;</th><th scope=col>&lt;chr&gt;</th><th scope=col>&lt;dbl&gt;</th></tr>\n",
              "</thead>\n",
              "<tbody>\n",
              "\t<tr><td>1</td><td>tomyam    </td><td>100</td></tr>\n",
              "\t<tr><td>2</td><td>padthai   </td><td> 50</td></tr>\n",
              "\t<tr><td>3</td><td>noodle    </td><td> 60</td></tr>\n",
              "\t<tr><td>4</td><td>fried rice</td><td> 70</td></tr>\n",
              "\t<tr><td>5</td><td>kaprao    </td><td> 65</td></tr>\n",
              "</tbody>\n",
              "</table>\n"
            ],
            "text/markdown": "\nA data.frame: 5 × 3\n\n| menu_id &lt;int&gt; | menu_name &lt;chr&gt; | menu_price &lt;dbl&gt; |\n|---|---|---|\n| 1 | tomyam     | 100 |\n| 2 | padthai    |  50 |\n| 3 | noodle     |  60 |\n| 4 | fried rice |  70 |\n| 5 | kaprao     |  65 |\n\n",
            "text/latex": "A data.frame: 5 × 3\n\\begin{tabular}{lll}\n menu\\_id & menu\\_name & menu\\_price\\\\\n <int> & <chr> & <dbl>\\\\\n\\hline\n\t 1 & tomyam     & 100\\\\\n\t 2 & padthai    &  50\\\\\n\t 3 & noodle     &  60\\\\\n\t 4 & fried rice &  70\\\\\n\t 5 & kaprao     &  65\\\\\n\\end{tabular}\n",
            "text/plain": [
              "  menu_id menu_name  menu_price\n",
              "1 1       tomyam     100       \n",
              "2 2       padthai     50       \n",
              "3 3       noodle      60       \n",
              "4 4       fried rice  70       \n",
              "5 5       kaprao      65       "
            ]
          },
          "metadata": {}
        }
      ]
    },
    {
      "cell_type": "code",
      "source": [
        "dbWriteTable(con, \"orders\",\n",
        "                data.frame(order_id = 1:10,\n",
        "                order_date = c(\"2022-01-01\", \"2022-01-01\",\n",
        "                \"2022-01-01\", \"2022-01-01\", \"2022-01-01\",\n",
        "                \"2022-01-01\", \"2022-01-02\", \"2022-01-02\",\n",
        "                \"2022-01-02\", \"2022-01-02\"),\n",
        "                staff_id = c(1, 2, 1, 5, 3, 4, 3, 1, 5, 2),\n",
        "                menu_id = c(1, 2, 1, 5, 3, 4, 3, 1, 5, 2)))"
      ],
      "metadata": {
        "id": "e3JX2f0eozhQ"
      },
      "execution_count": null,
      "outputs": []
    },
    {
      "cell_type": "code",
      "source": [
        "dbGetQuery(con, \"select * from orders\")"
      ],
      "metadata": {
        "colab": {
          "base_uri": "https://localhost:8080/",
          "height": 411
        },
        "id": "ceXh2lmRql8s",
        "outputId": "aefae07c-b17a-4653-c28a-5cdc9d720a5b"
      },
      "execution_count": null,
      "outputs": [
        {
          "output_type": "display_data",
          "data": {
            "text/html": [
              "<table class=\"dataframe\">\n",
              "<caption>A data.frame: 10 × 4</caption>\n",
              "<thead>\n",
              "\t<tr><th scope=col>order_id</th><th scope=col>order_date</th><th scope=col>staff_id</th><th scope=col>menu_id</th></tr>\n",
              "\t<tr><th scope=col>&lt;int&gt;</th><th scope=col>&lt;chr&gt;</th><th scope=col>&lt;dbl&gt;</th><th scope=col>&lt;dbl&gt;</th></tr>\n",
              "</thead>\n",
              "<tbody>\n",
              "\t<tr><td> 1</td><td>2022-01-01</td><td>1</td><td>1</td></tr>\n",
              "\t<tr><td> 2</td><td>2022-01-01</td><td>2</td><td>2</td></tr>\n",
              "\t<tr><td> 3</td><td>2022-01-01</td><td>1</td><td>1</td></tr>\n",
              "\t<tr><td> 4</td><td>2022-01-01</td><td>5</td><td>5</td></tr>\n",
              "\t<tr><td> 5</td><td>2022-01-01</td><td>3</td><td>3</td></tr>\n",
              "\t<tr><td> 6</td><td>2022-01-01</td><td>4</td><td>4</td></tr>\n",
              "\t<tr><td> 7</td><td>2022-01-02</td><td>3</td><td>3</td></tr>\n",
              "\t<tr><td> 8</td><td>2022-01-02</td><td>1</td><td>1</td></tr>\n",
              "\t<tr><td> 9</td><td>2022-01-02</td><td>5</td><td>5</td></tr>\n",
              "\t<tr><td>10</td><td>2022-01-02</td><td>2</td><td>2</td></tr>\n",
              "</tbody>\n",
              "</table>\n"
            ],
            "text/markdown": "\nA data.frame: 10 × 4\n\n| order_id &lt;int&gt; | order_date &lt;chr&gt; | staff_id &lt;dbl&gt; | menu_id &lt;dbl&gt; |\n|---|---|---|---|\n|  1 | 2022-01-01 | 1 | 1 |\n|  2 | 2022-01-01 | 2 | 2 |\n|  3 | 2022-01-01 | 1 | 1 |\n|  4 | 2022-01-01 | 5 | 5 |\n|  5 | 2022-01-01 | 3 | 3 |\n|  6 | 2022-01-01 | 4 | 4 |\n|  7 | 2022-01-02 | 3 | 3 |\n|  8 | 2022-01-02 | 1 | 1 |\n|  9 | 2022-01-02 | 5 | 5 |\n| 10 | 2022-01-02 | 2 | 2 |\n\n",
            "text/latex": "A data.frame: 10 × 4\n\\begin{tabular}{llll}\n order\\_id & order\\_date & staff\\_id & menu\\_id\\\\\n <int> & <chr> & <dbl> & <dbl>\\\\\n\\hline\n\t  1 & 2022-01-01 & 1 & 1\\\\\n\t  2 & 2022-01-01 & 2 & 2\\\\\n\t  3 & 2022-01-01 & 1 & 1\\\\\n\t  4 & 2022-01-01 & 5 & 5\\\\\n\t  5 & 2022-01-01 & 3 & 3\\\\\n\t  6 & 2022-01-01 & 4 & 4\\\\\n\t  7 & 2022-01-02 & 3 & 3\\\\\n\t  8 & 2022-01-02 & 1 & 1\\\\\n\t  9 & 2022-01-02 & 5 & 5\\\\\n\t 10 & 2022-01-02 & 2 & 2\\\\\n\\end{tabular}\n",
            "text/plain": [
              "   order_id order_date staff_id menu_id\n",
              "1   1       2022-01-01 1        1      \n",
              "2   2       2022-01-01 2        2      \n",
              "3   3       2022-01-01 1        1      \n",
              "4   4       2022-01-01 5        5      \n",
              "5   5       2022-01-01 3        3      \n",
              "6   6       2022-01-01 4        4      \n",
              "7   7       2022-01-02 3        3      \n",
              "8   8       2022-01-02 1        1      \n",
              "9   9       2022-01-02 5        5      \n",
              "10 10       2022-01-02 2        2      "
            ]
          },
          "metadata": {}
        }
      ]
    },
    {
      "cell_type": "code",
      "source": [
        "dbGetQuery(con, \"select staff_id, menu_id\n",
        "                from orders\n",
        "                where order_date = '2022-01-01'\")"
      ],
      "metadata": {
        "colab": {
          "base_uri": "https://localhost:8080/",
          "height": 286
        },
        "id": "_66lmBTzrjeH",
        "outputId": "206c13ac-f8ff-4e6d-8787-54936bc9caf1"
      },
      "execution_count": null,
      "outputs": [
        {
          "output_type": "display_data",
          "data": {
            "text/html": [
              "<table class=\"dataframe\">\n",
              "<caption>A data.frame: 6 × 2</caption>\n",
              "<thead>\n",
              "\t<tr><th scope=col>staff_id</th><th scope=col>menu_id</th></tr>\n",
              "\t<tr><th scope=col>&lt;dbl&gt;</th><th scope=col>&lt;dbl&gt;</th></tr>\n",
              "</thead>\n",
              "<tbody>\n",
              "\t<tr><td>1</td><td>1</td></tr>\n",
              "\t<tr><td>2</td><td>2</td></tr>\n",
              "\t<tr><td>1</td><td>1</td></tr>\n",
              "\t<tr><td>5</td><td>5</td></tr>\n",
              "\t<tr><td>3</td><td>3</td></tr>\n",
              "\t<tr><td>4</td><td>4</td></tr>\n",
              "</tbody>\n",
              "</table>\n"
            ],
            "text/markdown": "\nA data.frame: 6 × 2\n\n| staff_id &lt;dbl&gt; | menu_id &lt;dbl&gt; |\n|---|---|\n| 1 | 1 |\n| 2 | 2 |\n| 1 | 1 |\n| 5 | 5 |\n| 3 | 3 |\n| 4 | 4 |\n\n",
            "text/latex": "A data.frame: 6 × 2\n\\begin{tabular}{ll}\n staff\\_id & menu\\_id\\\\\n <dbl> & <dbl>\\\\\n\\hline\n\t 1 & 1\\\\\n\t 2 & 2\\\\\n\t 1 & 1\\\\\n\t 5 & 5\\\\\n\t 3 & 3\\\\\n\t 4 & 4\\\\\n\\end{tabular}\n",
            "text/plain": [
              "  staff_id menu_id\n",
              "1 1        1      \n",
              "2 2        2      \n",
              "3 1        1      \n",
              "4 5        5      \n",
              "5 3        3      \n",
              "6 4        4      "
            ]
          },
          "metadata": {}
        }
      ]
    },
    {
      "cell_type": "code",
      "source": [],
      "metadata": {
        "id": "le_EZLF5rzMH"
      },
      "execution_count": null,
      "outputs": []
    }
  ]
}