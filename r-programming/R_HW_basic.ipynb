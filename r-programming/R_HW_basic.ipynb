{
  "nbformat": 4,
  "nbformat_minor": 0,
  "metadata": {
    "colab": {
      "provenance": []
    },
    "kernelspec": {
      "name": "ir",
      "display_name": "R"
    },
    "language_info": {
      "name": "R"
    }
  },
  "cells": [
    {
      "cell_type": "code",
      "execution_count": 4,
      "metadata": {
        "id": "92aJ0RQBibdT"
      },
      "outputs": [],
      "source": [
        "## chatbot order pizza"
      ]
    },
    {
      "cell_type": "code",
      "source": [
        "## สั่งพิซซ่าด้วย id 1-10 ถ้าไม่สั่งแล้ว ให้พิมพ์ finished order"
      ],
      "metadata": {
        "id": "eBfU9ijCjad8"
      },
      "execution_count": null,
      "outputs": []
    },
    {
      "cell_type": "code",
      "source": [
        "menu <- c(\"margarita\", \"pepperoni\", \"mexican\", \"vegetarian\", \"greek salad\", \"mixed salad\", \"oliver salad\", \"bottled water\", \"tea\", \"coffee\")\n",
        "menu_id <- c(1, 2, 3, 4, 5, 6, 7, 8, 9, 10)\n",
        "price <- c(5.99, 4.49, 4.99, 3.99, 2.59, 1.39, 2.99, 1, 1.3, 1.5)\n",
        "pizza <- function() {\n",
        "    print(\"Hello welcome to pizzeria restaurant!\")\n",
        "    print(\"For pizza menu, there are 1)margarita $5.99, 2)pepperoni $4.49, 3)mexican $4.99 and 4)vegeteriana $3.99\")\n",
        "    print(\"For salad menu, there are 5)greek salad $2.59, 6)mixed salad $1.39 and 7)oliver salad $2.99\")\n",
        "    print(\"For drink menu, ther are 8)bottled water $1, 9)tea $1.3 and 10)coffee $1.5\")\n",
        "    print(\"please put the number of menu, then type 'finished order' if you don't want something more.\")\n",
        "     total <- 0\n",
        "    while (TRUE) {\n",
        "        order <- readline(\"Your order (1-10) or type 'finished order' to end: \")\n",
        "\n",
        "        if (order == \"finished order\") {\n",
        "            print(\"Order finished!\")\n",
        "            break\n",
        "        }\n",
        "\n",
        "        order <- as.integer(order)  # Convert input to integer\n",
        "\n",
        "        if (is.na(order) || !(order %in% menu_id)) {\n",
        "            print(\"Please choose a valid menu item (1-10) or type 'finished order'.\")\n",
        "        } else {\n",
        "            total <- total + price[order]\n",
        "            print(paste(\"Item\", menu[order], \"added to your order.\"))\n",
        "        }\n",
        "    }\n",
        "\n",
        "    print(paste(\"Your total price is: $\", round(total, 2)))\n",
        "}\n",
        "pizza()"
      ],
      "metadata": {
        "colab": {
          "base_uri": "https://localhost:8080/"
        },
        "id": "RoT-pnL5iiHJ",
        "outputId": "d5380030-79c8-45d4-ae8f-228266eef222"
      },
      "execution_count": 1,
      "outputs": [
        {
          "output_type": "stream",
          "name": "stdout",
          "text": [
            "Your order (1-10) or type 'finished order' to end: 2\n",
            "Your order (1-10) or type 'finished order' to end: 1\n",
            "Your order (1-10) or type 'finished order' to end: 3\n",
            "Your order (1-10) or type 'finished order' to end: finished order\n",
            "[1] \"Hello welcome to pizzeria restaurant!\"\n",
            "[1] \"For pizza menu, there are 1)margarita $5.99, 2)pepperoni $4.49, 3)mexican $4.99 and 4)vegeteriana $3.99\"\n",
            "[1] \"For salad menu, there are 5)greek salad $2.59, 6)mixed salad $1.39 and 7)oliver salad $2.99\"\n",
            "[1] \"For drink menu, ther are 8)bottled water $1, 9)tea $1.3 and 10)coffee $1.5\"\n",
            "[1] \"please put the number of menu, then type 'finished order' if you don't want something more.\"\n",
            "[1] \"Item pepperoni added to your order.\"\n",
            "[1] \"Item margarita added to your order.\"\n",
            "[1] \"Item mexican added to your order.\"\n",
            "[1] \"Order finished!\"\n",
            "[1] \"Your total price is: $ 15.47\"\n"
          ]
        }
      ]
    },
    {
      "cell_type": "code",
      "source": [
        "## pao ying chub"
      ],
      "metadata": {
        "id": "NrpNUCZwincT"
      },
      "execution_count": 2,
      "outputs": []
    },
    {
      "cell_type": "code",
      "source": [
        "## เล่นไปเรื่อยๆจนกว่าจะชนะ โดยเล่นได้ทั้งหมด 10 เกม ชนะแล้วหยุดเล่น"
      ],
      "metadata": {
        "id": "EvsdnGj2jO5B"
      },
      "execution_count": null,
      "outputs": []
    },
    {
      "cell_type": "code",
      "source": [
        "# ฟังก์ชันเล่นเกมเป่ายิงฉุบ (Rock, Paper, Scissors)\n",
        "play_rps <- function() {\n",
        "  # กำหนดตัวเลือก\n",
        "  choices <- c(\"rock\", \"paper\", \"scissors\")\n",
        "\n",
        "  # ตัวแปรสำหรับเก็บคะแนน\n",
        "  user_wins <- 0\n",
        "  computer_wins <- 0\n",
        "  ties <- 0\n",
        "  rounds_played <- 0\n",
        "\n",
        "  # เล่นเกมจนกว่าจะชนะหรือครบ 10 รอบ\n",
        "  while (rounds_played < 10) {\n",
        "    # ข้อความให้ผู้เล่นเลือก\n",
        "    user_choice <- readline(\"Choose 'rock', 'paper', or 'scissors': \")\n",
        "    user_choice <- tolower(user_choice)  # ทำให้เป็นตัวพิมพ์เล็ก\n",
        "\n",
        "    # ตรวจสอบว่าผู้เล่นเลือกตัวเลือกที่ถูกต้อง\n",
        "    if (!(user_choice %in% choices)) {\n",
        "      print(\"Invalid input. Please choose 'rock', 'paper', or 'scissors'.\")\n",
        "      next  # ถ้าเลือกผิดให้ข้ามรอบนี้ไป\n",
        "    }\n",
        "\n",
        "    # คอมพิวเตอร์เลือกแบบสุ่ม\n",
        "    computer_choice <- sample(choices, 1)\n",
        "\n",
        "    # แสดงผลการเลือกของผู้เล่นและคอมพิวเตอร์\n",
        "    print(paste(\"You chose:\", user_choice))\n",
        "    print(paste(\"The computer chose:\", computer_choice))\n",
        "\n",
        "    # เปรียบเทียบผลลัพธ์\n",
        "    if (user_choice == computer_choice) {\n",
        "      print(\"It's a tie!\")\n",
        "      ties <- ties + 1\n",
        "    } else if (\n",
        "      (user_choice == \"rock\" && computer_choice == \"scissors\") ||\n",
        "      (user_choice == \"scissors\" && computer_choice == \"paper\") ||\n",
        "      (user_choice == \"paper\" && computer_choice == \"rock\")\n",
        "    ) {\n",
        "      print(\"You win!\")\n",
        "      user_wins <- user_wins + 1\n",
        "      break  # ถ้าชนะให้หยุดเล่น\n",
        "    } else {\n",
        "      print(\"You lose!\")\n",
        "      computer_wins <- computer_wins + 1\n",
        "    }\n",
        "  }\n",
        "\n",
        "  # ตรวจสอบผลหลังจากจบเกม\n",
        "  if (rounds_played == 10 && user_wins == 0) {\n",
        "    print(\"Game Over! You didn't win in 10 rounds.\")\n",
        "  }\n",
        "}\n",
        "\n",
        "# เริ่มเล่นเกม\n",
        "play_rps()\n"
      ],
      "metadata": {
        "colab": {
          "base_uri": "https://localhost:8080/"
        },
        "id": "QxIn5E_rjE36",
        "outputId": "781bd63b-9d76-4c42-f8a8-05d9c24d5aed"
      },
      "execution_count": 3,
      "outputs": [
        {
          "output_type": "stream",
          "name": "stdout",
          "text": [
            "Choose 'rock', 'paper', or 'scissors': rock\n",
            "Choose 'rock', 'paper', or 'scissors': paper\n",
            "Choose 'rock', 'paper', or 'scissors': scissors\n",
            "[1] \"You chose: rock\"\n",
            "[1] \"The computer chose: paper\"\n",
            "[1] \"You lose!\"\n",
            "[1] \"You chose: paper\"\n",
            "[1] \"The computer chose: scissors\"\n",
            "[1] \"You lose!\"\n",
            "[1] \"You chose: scissors\"\n",
            "[1] \"The computer chose: paper\"\n",
            "[1] \"You win!\"\n"
          ]
        }
      ]
    },
    {
      "cell_type": "code",
      "source": [],
      "metadata": {
        "id": "wbNkCdY5jJNQ"
      },
      "execution_count": null,
      "outputs": []
    }
  ]
}