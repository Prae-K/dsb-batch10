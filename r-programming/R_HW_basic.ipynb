menu <- c("margarita", "pepperoni", "mexican", "vegetarian", "greek salad", "mixed salad", "oliver salad", "bottled water", "tea", "coffee")
menu_id <- c(1, 2, 3, 4, 5, 6, 7, 8, 9, 10)
price <- c(5.99, 4.49, 4.99, 3.99, 2.59, 1.39, 2.99, 1, 1.3, 1.5)
pizza <- function() {
    print("Hello welcome to pizzeria restaurant!")
    print("For pizza menu, there are 1)margarita $5.99, 2)pepperoni $4.49, 3)mexican $4.99 and 4)vegeteriana $3.99")
    print("For salad menu, there are 5)greek salad $2.59, 6)mixed salad $1.39 and 7)oliver salad $2.99")
    print("For drink menu, ther are 8)bottled water $1, 9)tea $1.3 and 10)coffee $1.5")
    print("please put the number of menu, then type 'finished order' if you don't want something more.")
     total <- 0
    while (TRUE) {
        order <- readline("Your order (1-10) or type 'finished order' to end: ")

        if (order == "finished order") {
            print("Order finished!")
            break
        }

        order <- as.integer(order)  # Convert input to integer

        if (is.na(order) || !(order %in% menu_id)) {
            print("Please choose a valid menu item (1-10) or type 'finished order'.")
        } else {
            total <- total + price[order]
            print(paste("Item", menu[order], "added to your order."))
        }
    }

    print(paste("Your total price is: $", round(total, 2)))
}
pizza()
